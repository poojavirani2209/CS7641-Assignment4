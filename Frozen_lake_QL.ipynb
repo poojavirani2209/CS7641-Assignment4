{
  "cells": [
    {
      "cell_type": "code",
      "execution_count": 1,
      "metadata": {
        "colab": {
          "base_uri": "https://localhost:8080/"
        },
        "id": "M0IhZCZmnTeI",
        "outputId": "f62d7563-dea7-47e1-825c-428af83f2bdd"
      },
      "outputs": [
        {
          "output_type": "stream",
          "name": "stdout",
          "text": [
            "Collecting bettermdptools\n",
            "  Downloading bettermdptools-0.4.0.tar.gz (7.6 kB)\n",
            "  Preparing metadata (setup.py) ... \u001b[?25l\u001b[?25hdone\n",
            "Collecting gym<=0.26.2,>=0.26 (from bettermdptools)\n",
            "  Downloading gym-0.26.2.tar.gz (721 kB)\n",
            "\u001b[2K     \u001b[90m━━━━━━━━━━━━━━━━━━━━━━━━━━━━━━━━━━━━━━━━\u001b[0m \u001b[32m721.7/721.7 kB\u001b[0m \u001b[31m5.4 MB/s\u001b[0m eta \u001b[36m0:00:00\u001b[0m\n",
            "\u001b[?25h  Installing build dependencies ... \u001b[?25l\u001b[?25hdone\n",
            "  Getting requirements to build wheel ... \u001b[?25l\u001b[?25hdone\n",
            "  Preparing metadata (pyproject.toml) ... \u001b[?25l\u001b[?25hdone\n",
            "Requirement already satisfied: pygame in /usr/local/lib/python3.10/dist-packages (from bettermdptools) (2.5.2)\n",
            "Requirement already satisfied: numpy in /usr/local/lib/python3.10/dist-packages (from bettermdptools) (1.23.5)\n",
            "Requirement already satisfied: tqdm in /usr/local/lib/python3.10/dist-packages (from bettermdptools) (4.66.1)\n",
            "Requirement already satisfied: pandas in /usr/local/lib/python3.10/dist-packages (from bettermdptools) (1.5.3)\n",
            "Requirement already satisfied: seaborn in /usr/local/lib/python3.10/dist-packages (from bettermdptools) (0.12.2)\n",
            "Requirement already satisfied: matplotlib in /usr/local/lib/python3.10/dist-packages (from bettermdptools) (3.7.1)\n",
            "Requirement already satisfied: cloudpickle>=1.2.0 in /usr/local/lib/python3.10/dist-packages (from gym<=0.26.2,>=0.26->bettermdptools) (2.2.1)\n",
            "Requirement already satisfied: gym-notices>=0.0.4 in /usr/local/lib/python3.10/dist-packages (from gym<=0.26.2,>=0.26->bettermdptools) (0.0.8)\n",
            "Requirement already satisfied: contourpy>=1.0.1 in /usr/local/lib/python3.10/dist-packages (from matplotlib->bettermdptools) (1.2.0)\n",
            "Requirement already satisfied: cycler>=0.10 in /usr/local/lib/python3.10/dist-packages (from matplotlib->bettermdptools) (0.12.1)\n",
            "Requirement already satisfied: fonttools>=4.22.0 in /usr/local/lib/python3.10/dist-packages (from matplotlib->bettermdptools) (4.44.3)\n",
            "Requirement already satisfied: kiwisolver>=1.0.1 in /usr/local/lib/python3.10/dist-packages (from matplotlib->bettermdptools) (1.4.5)\n",
            "Requirement already satisfied: packaging>=20.0 in /usr/local/lib/python3.10/dist-packages (from matplotlib->bettermdptools) (23.2)\n",
            "Requirement already satisfied: pillow>=6.2.0 in /usr/local/lib/python3.10/dist-packages (from matplotlib->bettermdptools) (9.4.0)\n",
            "Requirement already satisfied: pyparsing>=2.3.1 in /usr/local/lib/python3.10/dist-packages (from matplotlib->bettermdptools) (3.1.1)\n",
            "Requirement already satisfied: python-dateutil>=2.7 in /usr/local/lib/python3.10/dist-packages (from matplotlib->bettermdptools) (2.8.2)\n",
            "Requirement already satisfied: pytz>=2020.1 in /usr/local/lib/python3.10/dist-packages (from pandas->bettermdptools) (2023.3.post1)\n",
            "Requirement already satisfied: six>=1.5 in /usr/local/lib/python3.10/dist-packages (from python-dateutil>=2.7->matplotlib->bettermdptools) (1.16.0)\n",
            "Building wheels for collected packages: bettermdptools, gym\n",
            "  Building wheel for bettermdptools (setup.py) ... \u001b[?25l\u001b[?25hdone\n",
            "  Created wheel for bettermdptools: filename=bettermdptools-0.4.0-py3-none-any.whl size=11856 sha256=24f8ac49215fe45037eac9bba969da39fd0046e43240474836beafe0fe41392e\n",
            "  Stored in directory: /root/.cache/pip/wheels/b0/78/c1/a03ad20528780b5d6c33d3d8063f740b337388bf97b926f366\n",
            "  Building wheel for gym (pyproject.toml) ... \u001b[?25l\u001b[?25hdone\n",
            "  Created wheel for gym: filename=gym-0.26.2-py3-none-any.whl size=827618 sha256=f8a8fb6ceb7c39e170b65a87c79c76ee89b5f437f17b502f28aa71e10bd114b6\n",
            "  Stored in directory: /root/.cache/pip/wheels/b9/22/6d/3e7b32d98451b4cd9d12417052affbeeeea012955d437da1da\n",
            "Successfully built bettermdptools gym\n",
            "Installing collected packages: gym, bettermdptools\n",
            "  Attempting uninstall: gym\n",
            "    Found existing installation: gym 0.25.2\n",
            "    Uninstalling gym-0.25.2:\n",
            "      Successfully uninstalled gym-0.25.2\n",
            "\u001b[31mERROR: pip's dependency resolver does not currently take into account all the packages that are installed. This behaviour is the source of the following dependency conflicts.\n",
            "dopamine-rl 4.0.6 requires gym<=0.25.2, but you have gym 0.26.2 which is incompatible.\u001b[0m\u001b[31m\n",
            "\u001b[0mSuccessfully installed bettermdptools-0.4.0 gym-0.26.2\n"
          ]
        }
      ],
      "source": [
        "!pip install bettermdptools"
      ]
    },
    {
      "cell_type": "code",
      "execution_count": 2,
      "metadata": {
        "id": "5gQqjnN7m37D"
      },
      "outputs": [],
      "source": [
        "import numpy as np\n",
        "import random\n",
        "from timeit import default_timer as timer\n",
        "from datetime import timedelta\n",
        "import matplotlib.pylab as plt\n",
        "import pandas as pd\n",
        "import seaborn as sns\n",
        "from algorithms.rl import RL\n",
        "from algorithms.planner import Planner"
      ]
    },
    {
      "cell_type": "markdown",
      "source": [
        "FROZEN LAKE 4 BY 4"
      ],
      "metadata": {
        "id": "tJJ1FdOh9YyC"
      }
    },
    {
      "cell_type": "code",
      "execution_count": 8,
      "metadata": {
        "colab": {
          "base_uri": "https://localhost:8080/"
        },
        "id": "jruz4TaXnLll",
        "outputId": "f7a36769-6217-4be5-99f6-71278579f2ae"
      },
      "outputs": [
        {
          "output_type": "stream",
          "name": "stdout",
          "text": [
            "\n",
            "\u001b[41mS\u001b[0mFFF\n",
            "FHFH\n",
            "FFFH\n",
            "HFFG\n",
            "\n"
          ]
        }
      ],
      "source": [
        "import gym\n",
        "env = gym.make('FrozenLake-v1', render_mode=\"ansi\")\n",
        "env.reset()\n",
        "print(env.render())\n",
        "\n"
      ]
    },
    {
      "cell_type": "code",
      "source": [
        "Q, V, pi, Q_track, pi_track = RL(env).q_learning()\n",
        "\n"
      ],
      "metadata": {
        "colab": {
          "base_uri": "https://localhost:8080/"
        },
        "id": "8r4mTeAu72K-",
        "outputId": "031b42e7-c0f1-4376-c285-425506aae133"
      },
      "execution_count": 9,
      "outputs": [
        {
          "output_type": "stream",
          "name": "stderr",
          "text": [
            " 24%|██▍       | 2412/10000 [00:00<00:02, 2559.46it/s]/usr/local/lib/python3.10/dist-packages/algorithms/rl.py:180: UserWarning: Episode was truncated.  Bootstrapping 0 reward.\n",
            "  warnings.warn(\"Episode was truncated.  Bootstrapping 0 reward.\")\n",
            "                                                     "
          ]
        },
        {
          "output_type": "stream",
          "name": "stdout",
          "text": [
            "runtime = 8.63 seconds\n"
          ]
        },
        {
          "output_type": "stream",
          "name": "stderr",
          "text": [
            "\r"
          ]
        }
      ]
    },
    {
      "cell_type": "code",
      "source": [
        "from examples.grid_search import GridSearch\n",
        "epsilon_decay = [.4, .7, .9]\n",
        "iters = [500, 5000, 50000]\n",
        "GridSearch.Q_learning_grid_search(env, epsilon_decay, iters)"
      ],
      "metadata": {
        "colab": {
          "base_uri": "https://localhost:8080/"
        },
        "id": "dbysfw_g3MSs",
        "outputId": "9e87df2c-4533-4135-8969-87ebc498b6e1"
      },
      "execution_count": 11,
      "outputs": [
        {
          "output_type": "stream",
          "name": "stdout",
          "text": [
            "running -- with epsilon decay:  0.4  iterations:  500\n"
          ]
        },
        {
          "output_type": "stream",
          "name": "stderr",
          "text": []
        },
        {
          "output_type": "stream",
          "name": "stdout",
          "text": [
            "runtime = 0.20 seconds\n",
            "running -- with epsilon decay:  0.4  iterations:  5000\n"
          ]
        },
        {
          "output_type": "stream",
          "name": "stderr",
          "text": []
        },
        {
          "output_type": "stream",
          "name": "stdout",
          "text": [
            "runtime = 4.08 seconds\n",
            "running -- with epsilon decay:  0.4  iterations:  50000\n"
          ]
        },
        {
          "output_type": "stream",
          "name": "stderr",
          "text": []
        },
        {
          "output_type": "stream",
          "name": "stdout",
          "text": [
            "runtime = 46.96 seconds\n",
            "running -- with epsilon decay:  0.7  iterations:  500\n"
          ]
        },
        {
          "output_type": "stream",
          "name": "stderr",
          "text": []
        },
        {
          "output_type": "stream",
          "name": "stdout",
          "text": [
            "runtime = 0.38 seconds\n",
            "running -- with epsilon decay:  0.7  iterations:  5000\n"
          ]
        },
        {
          "output_type": "stream",
          "name": "stderr",
          "text": []
        },
        {
          "output_type": "stream",
          "name": "stdout",
          "text": [
            "runtime = 4.53 seconds\n",
            "running -- with epsilon decay:  0.7  iterations:  50000\n"
          ]
        },
        {
          "output_type": "stream",
          "name": "stderr",
          "text": []
        },
        {
          "output_type": "stream",
          "name": "stdout",
          "text": [
            "runtime = 39.82 seconds\n",
            "running -- with epsilon decay:  0.9  iterations:  500\n"
          ]
        },
        {
          "output_type": "stream",
          "name": "stderr",
          "text": []
        },
        {
          "output_type": "stream",
          "name": "stdout",
          "text": [
            "runtime = 0.45 seconds\n",
            "running -- with epsilon decay:  0.9  iterations:  5000\n"
          ]
        },
        {
          "output_type": "stream",
          "name": "stderr",
          "text": []
        },
        {
          "output_type": "stream",
          "name": "stdout",
          "text": [
            "runtime = 5.92 seconds\n",
            "running -- with epsilon decay:  0.9  iterations:  50000\n"
          ]
        },
        {
          "output_type": "stream",
          "name": "stderr",
          "text": []
        },
        {
          "output_type": "stream",
          "name": "stdout",
          "text": [
            "runtime = 40.58 seconds\n"
          ]
        }
      ]
    },
    {
      "cell_type": "markdown",
      "source": [
        "FROZEN LAKE 8 by 8"
      ],
      "metadata": {
        "id": "7rehRIBf9nHc"
      }
    },
    {
      "cell_type": "code",
      "source": [
        "import  gym\n",
        "env = gym.make(\"FrozenLake8x8-v1\",render_mode=\"ansi\")\n",
        "env.reset()\n",
        "print(env.render())\n"
      ],
      "metadata": {
        "colab": {
          "base_uri": "https://localhost:8080/"
        },
        "id": "vHg2Ad6n9kFC",
        "outputId": "6a8fcae9-92ca-42be-f1ee-f9c9e923a2d4"
      },
      "execution_count": 12,
      "outputs": [
        {
          "output_type": "stream",
          "name": "stdout",
          "text": [
            "\n",
            "\u001b[41mS\u001b[0mFFFFFFF\n",
            "FFFFFFFF\n",
            "FFFHFFFF\n",
            "FFFFFHFF\n",
            "FFFHFFFF\n",
            "FHHFFFHF\n",
            "FHFFHFHF\n",
            "FFFHFFFG\n",
            "\n"
          ]
        }
      ]
    },
    {
      "cell_type": "code",
      "source": [
        "Q, V, pi, Q_track, pi_track = RL(env).q_learning()\n"
      ],
      "metadata": {
        "colab": {
          "base_uri": "https://localhost:8080/"
        },
        "id": "XT0Msqdu9rKs",
        "outputId": "3de72a1b-9ec8-4c29-c5b6-a4160ecfaf76"
      },
      "execution_count": 13,
      "outputs": [
        {
          "output_type": "stream",
          "name": "stderr",
          "text": [
            "                                                     "
          ]
        },
        {
          "output_type": "stream",
          "name": "stdout",
          "text": [
            "runtime = 26.34 seconds\n"
          ]
        },
        {
          "output_type": "stream",
          "name": "stderr",
          "text": [
            "\r"
          ]
        }
      ]
    },
    {
      "cell_type": "code",
      "source": [
        "from examples.grid_search import GridSearch\n",
        "epsilon_decay = [.4, .7, .9]\n",
        "iters = [500, 5000, 50000]\n",
        "GridSearch.Q_learning_grid_search(env, epsilon_decay, iters)"
      ],
      "metadata": {
        "colab": {
          "base_uri": "https://localhost:8080/"
        },
        "id": "PCgiPCReeR9r",
        "outputId": "2f5a38e4-1a45-4633-bdf2-c874606a7a9c"
      },
      "execution_count": 14,
      "outputs": [
        {
          "output_type": "stream",
          "name": "stdout",
          "text": [
            "running -- with epsilon decay:  0.4  iterations:  500\n"
          ]
        },
        {
          "output_type": "stream",
          "name": "stderr",
          "text": []
        },
        {
          "output_type": "stream",
          "name": "stdout",
          "text": [
            "runtime = 2.11 seconds\n",
            "running -- with epsilon decay:  0.4  iterations:  5000\n"
          ]
        },
        {
          "output_type": "stream",
          "name": "stderr",
          "text": []
        },
        {
          "output_type": "stream",
          "name": "stdout",
          "text": [
            "runtime = 17.07 seconds\n",
            "running -- with epsilon decay:  0.4  iterations:  50000\n"
          ]
        },
        {
          "output_type": "stream",
          "name": "stderr",
          "text": []
        },
        {
          "output_type": "stream",
          "name": "stdout",
          "text": [
            "runtime = 118.03 seconds\n",
            "running -- with epsilon decay:  0.7  iterations:  500\n"
          ]
        },
        {
          "output_type": "stream",
          "name": "stderr",
          "text": []
        },
        {
          "output_type": "stream",
          "name": "stdout",
          "text": [
            "runtime = 1.43 seconds\n",
            "running -- with epsilon decay:  0.7  iterations:  5000\n"
          ]
        },
        {
          "output_type": "stream",
          "name": "stderr",
          "text": []
        },
        {
          "output_type": "stream",
          "name": "stdout",
          "text": [
            "runtime = 15.95 seconds\n",
            "running -- with epsilon decay:  0.7  iterations:  50000\n"
          ]
        },
        {
          "output_type": "stream",
          "name": "stderr",
          "text": []
        },
        {
          "output_type": "stream",
          "name": "stdout",
          "text": [
            "runtime = 114.54 seconds\n",
            "running -- with epsilon decay:  0.9  iterations:  500\n"
          ]
        },
        {
          "output_type": "stream",
          "name": "stderr",
          "text": []
        },
        {
          "output_type": "stream",
          "name": "stdout",
          "text": [
            "runtime = 1.90 seconds\n",
            "running -- with epsilon decay:  0.9  iterations:  5000\n"
          ]
        },
        {
          "output_type": "stream",
          "name": "stderr",
          "text": []
        },
        {
          "output_type": "stream",
          "name": "stdout",
          "text": [
            "runtime = 15.14 seconds\n",
            "running -- with epsilon decay:  0.9  iterations:  50000\n"
          ]
        },
        {
          "output_type": "stream",
          "name": "stderr",
          "text": [
            "                                                      "
          ]
        },
        {
          "output_type": "stream",
          "name": "stdout",
          "text": [
            "runtime = 109.07 seconds\n"
          ]
        },
        {
          "output_type": "stream",
          "name": "stderr",
          "text": [
            "\r"
          ]
        }
      ]
    }
  ],
  "metadata": {
    "colab": {
      "provenance": []
    },
    "kernelspec": {
      "display_name": "Python 3",
      "name": "python3"
    },
    "language_info": {
      "name": "python"
    }
  },
  "nbformat": 4,
  "nbformat_minor": 0
}